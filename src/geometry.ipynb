{
 "cells": [
  {
   "cell_type": "code",
   "execution_count": 35,
   "id": "07bcf609-95c3-4a37-bf8e-9521c5c78599",
   "metadata": {},
   "outputs": [],
   "source": [
    "class Zcylinder():\n",
    "    \n",
    "    def __init__(self,x0:float,y0:float,radius:float):\n",
    "        self.x0=x0\n",
    "        self.y0=y0\n",
    "        self.r=radius\n",
    "        \n",
    "    def particle_position_confirm(self,x,y,z):        \n",
    "        val=(x-self.x0)**2+(y-self.y0)**2-self.r**2\n",
    "        return val\n",
    "\n",
    "\n",
    "class  Cell():\n",
    "    def __init__(self,surface_array:list,indicator_array:list):\n",
    "        \"\"\"\n",
    "           surface array will contain object of surface class.\n",
    "           indicator array will contain logic like : inside,outside and on_the_surface. \n",
    "           the suface and the indicator array needs to be in the same order.     \n",
    "        \"\"\"\n",
    "        self.surfaces=surface_array\n",
    "        self.logic_array=indicator_array\n",
    "        self.cell_id_number=self.logic_array_to_id_number()\n",
    "\n",
    "    def logic_array_to_id_number(self):\n",
    "        #id number will follow a three digit indicator \n",
    "        # 1 outside \n",
    "        # 0 inside and on the surface \n",
    "        id=[]\n",
    "        for i in self.logic_array:\n",
    "            if i=='inside' or i=='on_the_surface':\n",
    "                id.append(0)\n",
    "            elif i=='outside':\n",
    "                id.append(1)\n",
    "\n",
    "        return id \n",
    "\n",
    "    def particle_within_this_cell(self,r:list):\n",
    "        x=r[0]\n",
    "        y=r[1]\n",
    "        z=r[2]\n",
    "        generated_id_number=[]\n",
    "\n",
    "        for _ in self.surfaces:\n",
    "            if _.particle_position_confirm(x,y,z)<0 or _.particle_position_confirm(x,y,z)==0:\n",
    "                generated_id_number.append(0)\n",
    "            elif _.particle_position_confirm(x,y,z)>0:\n",
    "                generated_id_number.append(1)\n",
    "\n",
    "        \"\"\" \n",
    "        here we need a converter program which will tell us if the co ordinate is inside or outside \n",
    "        after reading the generated number \n",
    "        \"\"\"\n",
    "        if generated_id_number==self.cell_id_number:\n",
    "            print(\"particle is found in this cell \") \n",
    "            return 1\n",
    "\n",
    "        else:\n",
    "            print(\"particle is not found in this cell \") \n",
    "            return 0"
   ]
  },
  {
   "cell_type": "code",
   "execution_count": 36,
   "id": "2a90344a-d0bd-42d4-b98a-e4e0207acc73",
   "metadata": {},
   "outputs": [],
   "source": [
    "cylinder1=Zcylinder(0,0,radius =5)\n",
    "cylinder2=Zcylinder(0,0,10)"
   ]
  },
  {
   "cell_type": "code",
   "execution_count": 37,
   "id": "da017990-c106-4cda-a880-3555a826733b",
   "metadata": {},
   "outputs": [
    {
     "data": {
      "text/plain": [
       "[1, 0]"
      ]
     },
     "execution_count": 37,
     "metadata": {},
     "output_type": "execute_result"
    }
   ],
   "source": [
    "Cell_1=Cell([cylinder1,cylinder2],['outside','inside'])\n",
    "Cell_1.cell_id_number"
   ]
  },
  {
   "cell_type": "code",
   "execution_count": 38,
   "id": "bc132d05-a193-4793-aa02-5e28add38aa8",
   "metadata": {},
   "outputs": [
    {
     "name": "stdout",
     "output_type": "stream",
     "text": [
      "particle is not found in this cell \n"
     ]
    },
    {
     "data": {
      "text/plain": [
       "0"
      ]
     },
     "execution_count": 38,
     "metadata": {},
     "output_type": "execute_result"
    }
   ],
   "source": [
    "Cell_1.particle_within_this_cell(r=[0,16,6])"
   ]
  },
  {
   "cell_type": "code",
   "execution_count": null,
   "id": "ddced692-7d20-4460-905a-99fe59d2611d",
   "metadata": {},
   "outputs": [],
   "source": []
  },
  {
   "cell_type": "code",
   "execution_count": null,
   "id": "69a7a929-504b-47a7-88e1-ece967e3bf2d",
   "metadata": {},
   "outputs": [],
   "source": []
  }
 ],
 "metadata": {
  "kernelspec": {
   "display_name": "Python 3 (ipykernel)",
   "language": "python",
   "name": "python3"
  },
  "language_info": {
   "codemirror_mode": {
    "name": "ipython",
    "version": 3
   },
   "file_extension": ".py",
   "mimetype": "text/x-python",
   "name": "python",
   "nbconvert_exporter": "python",
   "pygments_lexer": "ipython3",
   "version": "3.12.3"
  }
 },
 "nbformat": 4,
 "nbformat_minor": 5
}
